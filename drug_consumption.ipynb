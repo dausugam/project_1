{
 "cells": [
  {
   "cell_type": "markdown",
   "metadata": {},
   "source": []
  },
  {
   "cell_type": "code",
   "execution_count": null,
   "metadata": {},
   "outputs": [],
   "source": [
    "# Import Library Dependencies\n",
    "import pandas\n",
    "import matplotlib.pyplot as plt"
   ]
  },
  {
   "cell_type": "code",
   "execution_count": null,
   "metadata": {},
   "outputs": [],
   "source": [
    "# Import Drug Consumption CSV Data\n",
    "drug_consupmtion_data = pandas.read_csv(\"data/drug_consumption.csv\")\n",
    "drug_consupmtion_data.head()"
   ]
  },
  {
   "cell_type": "code",
   "execution_count": null,
   "metadata": {},
   "outputs": [],
   "source": [
    "# Identify Initial Data Information\n",
    "drug_consupmtion_data.info()"
   ]
  },
  {
   "cell_type": "code",
   "execution_count": null,
   "metadata": {},
   "outputs": [],
   "source": [
    "# Define the value-key pairs of the original data\n",
    "\n",
    "data_values_definition = {\n",
    "    \"Age\": {\n",
    "        -0.95197: \"18-24 years\",\n",
    "        -0.07854: \"25-34 years\",\n",
    "        0.49788: \"35-44 years\",\n",
    "        1.09449: \"45-54 years\",\n",
    "        1.82213: \"55-64 years\",\n",
    "        2.59171: \"65+ years\"},\n",
    "    \"Gender\": {\n",
    "        0.48246: \"Female\",\n",
    "        -0.48246: \"Male\"},\n",
    "    \"Education\": {\n",
    "        -2.43591: \"Left School Before 16 years\",\n",
    "        -1.73790: \"Left School at 16 years\",\n",
    "        -1.43719: \"Left School at 17 years\",\n",
    "        -1.22751: \"Left School at 18 years\",\n",
    "        -0.61113: \"Some College,No Certificate Or Degree\",\n",
    "        -0.05921: \"Professional Certificate/ Diploma\",\n",
    "        0.45468: \"University Degree\",\n",
    "        1.16365: \"Masters Degree\",\n",
    "        1.98437: \"Doctorate Degree\"},\n",
    "    \"Country\": {\n",
    "        -0.09765: \"Australia\",\n",
    "        0.24923: \"Canada\",\n",
    "        -0.46841: \"New Zealand\",\n",
    "        -0.28519: \"Other\",\n",
    "        0.21128: \"Republic of Ireland\",\n",
    "        0.96082: \"United Kingdom\",\n",
    "        -0.57009: \"United States\"},\n",
    "    \"Ethnicity\": {\n",
    "        -0.50212: \"Asian\",\n",
    "        -1.10702: \"Black\",\n",
    "        1.90725: \"Mixed-Black/Asian\",\n",
    "        0.12600: \"Mixed-White/Asian\",\n",
    "        -0.22166: \"Mixed-White/Black\",\n",
    "        0.11440: \"Other\",\n",
    "        -0.31685: \"White\"},\n",
    "    \"Nscore\": {-3.46436: 12,-3.15735: 13,-2.75696: 14,-2.52197: 15,-2.42317: 16,-2.3436: 17,-2.21844: 18,-2.05048: 19,-1.86962: 20,-1.69163: 21,-1.55078: 22,-1.43907: 23,-1.32828: 24,-1.1943: 25,-1.05308: 26,-0.92104: 27,-0.79151: 28,-0.67825: 29,-0.58016: 30,-0.46725: 31,-0.34799: 32,-0.24649: 33,-0.14882: 34,-0.05188: 35,0.04257: 36,0.13606: 37,0.22393: 38,0.31287: 39,0.41667: 40,0.52135: 41,0.62967: 42,0.73545: 43,0.82562: 44,0.91093: 45,1.02119: 46,1.13281: 47,1.23461: 48,1.37297: 49,1.49158: 50,1.60383: 51,1.72012: 52,1.8399: 53,1.98437: 54,2.127: 55,2.28554: 56,2.46262: 57,2.61139: 58,2.82196: 59,3.27393: 60},\n",
    "    \"Escore\": {-3.27393: 16,-3.00537: 17,-3.00537: 18,-2.72827: 19,-2.5383: 20,-2.44904: 21,-2.32338: 22,-2.21069: 23,-2.11437: 24,-2.03972: 25,-1.92173: 26,-1.7625: 27,-1.6334: 28,-1.50796: 29,-1.37639: 30,-1.23177: 31,-1.09207: 32,-0.94779: 33,-0.80615: 34,-0.69509: 35,-0.57545: 36,-0.43999: 37,-0.30033: 38,-0.15487: 39,0.00332: 40,0.16767: 41,0.32197: 42,0.47617: 43,0.63779: 44,0.80523: 45,0.96248: 46,1.11406: 47,1.2861: 48,1.45421: 49,1.58487: 50,1.74091: 51,1.93886: 52,2.127: 53,2.32338: 54,2.57309: 55,2.8595: 56,2.8595: 57,3.00537: 58,3.27393: 59},\n",
    "    \"Oscore\": {-3.27393: 24,-2.8595: 26,-2.63199: 28,-2.39883: 29,-2.21069: 30,-2.09015: 31,-1.97495: 32,-1.82919: 33,-1.68062: 34,-1.55521: 35,-1.42424: 36,-1.27553: 37,-1.11902: 38,-0.97631: 39,-0.84732: 40,-0.71727: 41,-0.58331: 42,-0.45174: 43,-0.31776: 44,-0.17779: 45,-0.01928: 46,0.14143: 47,0.29338: 48,0.44585: 49,0.58331: 50,0.7233: 51,0.88309: 52,1.06238: 53,1.24033: 54,1.43533: 55,1.65653: 56,1.88511: 57,1.15324: 58,2.44904: 59,2.90161: 60},\n",
    "    \"Ascore\": {-3.46436: 12,-3.15735: 16,-3.00537: 18,-2.90161: 23,-2.78793: 24,-2.70172: 25,-2.5383: 26,-2.35413: 27,-2.21844: 28,-2.07848: 29,-1.92595: 30,-1.772: 31,-1.6209: 32,-1.47955: 33,-1.34289: 34,-1.21213: 35,-1.07533: 36,-0.91699: 37,-0.76096: 38,-0.60633: 39,-0.45321: 40,-0.30172: 41,-0.15487: 42,-0.01729: 43,0.13136: 44,0.28783: 45,0.43852: 46,0.59042: 47,0.76096: 48,0.94156: 49,1.11406: 50,1.2861: 51,1.45039: 52,1.61108: 53,1.81866: 54,2.03972: 55,2.23427: 56,2.46262: 57,2.75696: 58,3.15735: 59,3.46436: 60},\n",
    "    \"Cscore\": {-3.46436: 17,-3.15735: 19,-2.90161: 20,-2.72827: 21,-2.57309: 22,-2.42317: 23,-2.30408: 24,-2.18109: 25,-2.04506: 26,-1.92173: 27,-1.78169: 28,-1.64101: 29,-1.5184: 30,-1.38502: 31,-1.25773: 32,-1.13788: 33,-1.0145: 34,-0.89891: 35,-0.78155: 36,-0.65253: 37,-0.52745: 38,-0.40581: 39,-0.27607: 40,-0.14277: 41,-0.00665: 42,0.12331: 43,0.25953: 44,0.41594: 45,0.58489: 46,0.7583: 47,0.93949: 48,1.13407: 49,1.30612: 50,1.46191: 51,1.63088: 52,1.81175: 53,2.04506: 54,2.33337: 55,2.63199: 56,3.00537: 57,3.46436: 59}}\n",
    "\n",
    "drug_usage_definition = {\n",
    "    \"CL0\": \"Never Used\",\n",
    "    \"CL1\": \"Used over a Decade Ago\",\n",
    "    \"CL2\": \"Used in Last Decade\",\n",
    "    \"CL3\": \"Used in Last Year\",\n",
    "    \"CL4\": \"Used in Last Month\",\n",
    "    \"CL5\": \"Used in Last Week\",\n",
    "    \"CL6\": \"Used in Last Day\"}"
   ]
  },
  {
   "cell_type": "code",
   "execution_count": null,
   "metadata": {},
   "outputs": [],
   "source": [
    "# Replace the Data Values of the Original DataFrame using \"data_values_definition\" Dictionary\n",
    "drug_consupmtion_df = drug_consupmtion_data.replace(data_values_definition)\n",
    "drug_consupmtion_df.head()"
   ]
  },
  {
   "cell_type": "code",
   "execution_count": null,
   "metadata": {},
   "outputs": [],
   "source": [
    "# The Value \"2.15324\" on the Oscore Column was not replaced\n",
    "drug_consupmtion_df[\"Oscore\"].unique()"
   ]
  },
  {
   "cell_type": "code",
   "execution_count": null,
   "metadata": {},
   "outputs": [],
   "source": [
    "# Remove all rows in which Oscore=2.15324\n",
    "drug_consupmtion_df = drug_consupmtion_df.loc[drug_consupmtion_df[\"Oscore\"]!=2.15324, :]\n",
    "drug_consupmtion_df[\"Oscore\"].unique()"
   ]
  },
  {
   "cell_type": "code",
   "execution_count": null,
   "metadata": {},
   "outputs": [],
   "source": [
    "# Remove the Fictitious Drug \"Semer\"\n",
    "drugs_to_remove = [\"Semer\", \"Alcohol\", \"Caffeine\", \"Chocolate\", \"Nicotine\", \"Legal Highs\", \"Benzodiazepine\"]\n",
    "ilegal_drugs = [\"Amphetamines\", \"Amyl Nitrite\", \"Cannabis\", \"Cocaine\", \"Crack\", \"Ecstasy\", \"Heroin\", \"Ketamine\", \"LSD\", \"Meth\", \"Mushrooms\", \"VSA\"]\n",
    "drug_consupmtion_df = drug_consupmtion_df.drop(drugs_to_remove, axis=\"columns\")\n",
    "drug_consupmtion_df = drug_consupmtion_df.loc[drug_consupmtion_df[\"Country\"]!=\"Other\", :]\n",
    "drug_consupmtion_df"
   ]
  }
 ],
 "metadata": {
  "kernelspec": {
   "display_name": "dev3.10",
   "language": "python",
   "name": "python3"
  },
  "language_info": {
   "codemirror_mode": {
    "name": "ipython",
    "version": 3
   },
   "file_extension": ".py",
   "mimetype": "text/x-python",
   "name": "python",
   "nbconvert_exporter": "python",
   "pygments_lexer": "ipython3",
   "version": "3.10.14"
  }
 },
 "nbformat": 4,
 "nbformat_minor": 2
}
